{
 "cells": [
  {
   "cell_type": "code",
   "execution_count": 38,
   "id": "49deb9f9",
   "metadata": {},
   "outputs": [],
   "source": [
    "import numpy as np\n",
    "import pandas as pd\n",
    "import torch\n",
    "import torch.nn as nn\n",
    "import torch.nn.parallel\n",
    "import torch.optim as optim\n",
    "import torch.utils.data\n",
    "from torch.autograd import Variable\n"
   ]
  },
  {
   "cell_type": "code",
   "execution_count": 39,
   "id": "cd2ba7d8",
   "metadata": {},
   "outputs": [],
   "source": [
    "movies=pd.read_csv(\"ml-1m/movies.dat\",sep='::',header=None,engine='python',encoding='latin-1')\n",
    "users=pd.read_csv(\"ml-1m/users.dat\",sep='::',header=None,engine='python',encoding='latin-1')\n",
    "ratings=pd.read_csv(\"ml-1m/ratings.dat\",sep='::',header=None,engine='python',encoding='latin-1')\n"
   ]
  },
  {
   "cell_type": "code",
   "execution_count": 40,
   "id": "2c1909c1",
   "metadata": {},
   "outputs": [],
   "source": [
    "training_set = pd.read_csv('ml-100k/u1.base',delimiter='\\t')\n",
    "training_set=np.array(training_set,dtype='int')\n",
    "test_set = pd.read_csv('ml-100k/u1.test',delimiter='\\t')\n",
    "test_set=np.array(test_set,dtype='int')\n"
   ]
  },
  {
   "cell_type": "code",
   "execution_count": 41,
   "id": "f85dfa90",
   "metadata": {},
   "outputs": [],
   "source": [
    "nb_users=int(max(max(training_set[:,0]), max(test_set[:,0])))\n",
    "nb_movies=int(max(max(training_set[:,1]), max(test_set[:,1])))"
   ]
  },
  {
   "cell_type": "code",
   "execution_count": 42,
   "id": "75fed3e4",
   "metadata": {},
   "outputs": [],
   "source": [
    "#converting the data into an array with users in lines and movies in columns\n",
    "def convert(data):\n",
    "    new_data=[]\n",
    "    for id_users in range(1,nb_users+1):\n",
    "        id_movies=data[:,1][data[:,0]==id_users]\n",
    "        id_ratings=data[:,2][data[:,0]==id_users]\n",
    "        ratings = np.zeros(nb_movies)\n",
    "        ratings[id_movies-1] = id_ratings\n",
    "        new_data.append(list(ratings))\n",
    "    return new_data\n",
    "\n",
    "\n",
    "training_set=convert(training_set)\n",
    "test_set=convert(test_set)"
   ]
  },
  {
   "cell_type": "code",
   "execution_count": 43,
   "id": "e4c8cd09",
   "metadata": {},
   "outputs": [],
   "source": [
    "training_set=torch.FloatTensor(training_set)\n",
    "test_set=torch.FloatTensor(test_set)"
   ]
  },
  {
   "cell_type": "code",
   "execution_count": 44,
   "id": "27c3e1a8",
   "metadata": {},
   "outputs": [],
   "source": [
    "training_set[training_set==0]=-1\n",
    "training_set[training_set==1 ]=0\n",
    "training_set[training_set==2]=0\n",
    "training_set[training_set>=3]=1\n",
    "\n",
    "\n",
    "\n",
    "test_set[test_set==0]=-1\n",
    "test_set[test_set==1]=0\n",
    "test_set[test_set==2]=0\n",
    "test_set[test_set>=3]=1\n",
    "\n"
   ]
  },
  {
   "cell_type": "code",
   "execution_count": 45,
   "id": "78d969d6",
   "metadata": {},
   "outputs": [],
   "source": [
    "class RBM():\n",
    "    def __init__(self,nv,nh):\n",
    "        self.W=torch.randn(nv,nh) #weights\n",
    "        self.a=torch.randn(1,nh) #biases for hidden nodes\n",
    "        self.b=torch.rand(1,nv) #for visible nodes\n",
    "    def sample_h(self,x): #x is the visible node and we apply to it to find out the hidden one value\n",
    "        wx=torch.mm(x,self.W)\n",
    "        activation=wx+self.a.expand_as(wx)\n",
    "        p_h_given_v = torch.sigmoid(activation)\n",
    "        return p_h_given_v, torch.bernoulli(p_h_given_v)\n",
    "    def sample_v(self,y): #y is the hidden node\n",
    "        wy=torch.mm(y,self.W.t())\n",
    "        activation=wy+self.b.expand_as(wy)\n",
    "        p_v_given_h = torch.sigmoid(activation)\n",
    "        return p_v_given_h, torch.bernoulli(p_v_given_h)\n",
    "    def train(self,v0,vk,ph0,phk):\n",
    "        self.W+=torch.mm(v0.t(),ph0)-torch.mm(vk.t(),phk)\n",
    "        self.b+=torch.sum((v0-vk),0)\n",
    "        self.a+=torch.sum((ph0-phk),0)\n",
    "        \n",
    "\n",
    "\n",
    "\n",
    "    "
   ]
  },
  {
   "cell_type": "code",
   "execution_count": 46,
   "id": "5ffc9d64",
   "metadata": {},
   "outputs": [
    {
     "name": "stdout",
     "output_type": "stream",
     "text": [
      "1682\n"
     ]
    }
   ],
   "source": [
    "\n",
    "nv=len(training_set[0])\n",
    "print(nv)\n",
    "nh=100\n",
    "batch_size=100\n",
    "rbm=RBM(nv,nh)"
   ]
  },
  {
   "cell_type": "code",
   "execution_count": null,
   "id": "4e0db08a",
   "metadata": {},
   "outputs": [
    {
     "name": "stdout",
     "output_type": "stream",
     "text": [
      "epoch: 1 losstensor(0.3537)\n",
      "epoch: 2 losstensor(0.2474)\n",
      "epoch: 3 losstensor(0.2484)\n",
      "epoch: 4 losstensor(0.2483)\n",
      "epoch: 5 losstensor(0.2466)\n",
      "epoch: 6 losstensor(0.2437)\n",
      "epoch: 7 losstensor(0.2473)\n",
      "epoch: 8 losstensor(0.2487)\n",
      "epoch: 9 losstensor(0.2464)\n",
      "epoch: 10 losstensor(0.2457)\n"
     ]
    }
   ],
   "source": [
    "nb_epoch=10\n",
    "for epoch in range(1,nb_epoch+1):\n",
    "    train_loss=0\n",
    "    s=0.\n",
    "    for id_user in range(0, nb_users-batch_size, batch_size):\n",
    "        vk=training_set[id_user:id_user+batch_size]\n",
    "        v0=training_set[id_user:id_user+batch_size]#intial nodes\n",
    "        ph0,_=rbm.sample_h(v0)\n",
    "        for k in range(10):\n",
    "            _,hk=rbm.sample_h(vk)#k steps\n",
    "            _,vk=rbm.sample_v(hk)\n",
    "            vk[v0<0]=v0[v0<0]\n",
    "        phk,_=rbm.sample_h(vk)\n",
    "        rbm.train(v0,vk,ph0,phk)\n",
    "        train_loss+=torch.mean(torch.abs(v0[v0>=0]-vk[v0>=0]))\n",
    "        s+=1\n",
    "    print(\"epoch: \" + str(epoch)+' loss' +str(train_loss/s))\n",
    "    \n",
    "\n",
    "\n"
   ]
  },
  {
   "cell_type": "code",
   "execution_count": 48,
   "id": "8320b040",
   "metadata": {},
   "outputs": [
    {
     "name": "stdout",
     "output_type": "stream",
     "text": [
      "v0: torch.Size([100, 1682])\n",
      "ph0: torch.Size([100, 100])\n",
      "vk: torch.Size([100, 1682])\n",
      "phk: torch.Size([100, 100])\n"
     ]
    }
   ],
   "source": [
    "print(\"v0:\", v0.shape)\n",
    "print(\"ph0:\", ph0.shape)\n",
    "print(\"vk:\", vk.shape)\n",
    "print(\"phk:\", phk.shape)\n"
   ]
  },
  {
   "cell_type": "code",
   "execution_count": 50,
   "id": "431d93ac",
   "metadata": {},
   "outputs": [
    {
     "name": "stdout",
     "output_type": "stream",
     "text": [
      "test losstensor(0.2570)\n"
     ]
    }
   ],
   "source": [
    "\n",
    "test_loss=0\n",
    "s=0.\n",
    "for id_user in range( nb_users):\n",
    "    v=training_set[id_user:id_user+1]\n",
    "    vt=test_set[id_user:id_user+1]#intial nodes\n",
    "    \n",
    "    if len(vt[vt>=0])>0:\n",
    "        _,h=rbm.sample_h(v)#1 step\n",
    "        _,v=rbm.sample_v(h)\n",
    "    \n",
    "        test_loss+=torch.mean(torch.abs(vt[vt>=0]-v[vt>=0]))\n",
    "        s+=1\n",
    "print('test loss' +str(test_loss/s))\n",
    "    \n",
    "\n",
    "\n"
   ]
  },
  {
   "cell_type": "code",
   "execution_count": 53,
   "id": "01e82eea",
   "metadata": {},
   "outputs": [
    {
     "name": "stdout",
     "output_type": "stream",
     "text": [
      "0.74975\n",
      "0.25025\n"
     ]
    }
   ],
   "source": [
    "import numpy as np\n",
    "u = np.random.choice([0,1], 100000)\n",
    "v = np.random.choice([0,1], 100000)\n",
    "u[:50000] = v[:50000]\n",
    "print(sum(u==v)/float(len(u))) # -> you get 0.75\n",
    "print(np.mean(np.abs(u-v))) # -> you get 0.25"
   ]
  }
 ],
 "metadata": {
  "kernelspec": {
   "display_name": "Python 3",
   "language": "python",
   "name": "python3"
  },
  "language_info": {
   "codemirror_mode": {
    "name": "ipython",
    "version": 3
   },
   "file_extension": ".py",
   "mimetype": "text/x-python",
   "name": "python",
   "nbconvert_exporter": "python",
   "pygments_lexer": "ipython3",
   "version": "3.10.10"
  }
 },
 "nbformat": 4,
 "nbformat_minor": 5
}
